{
  "nbformat": 4,
  "nbformat_minor": 0,
  "metadata": {
    "colab": {
      "provenance": [],
      "gpuType": "T4",
      "authorship_tag": "ABX9TyOBbd+m+MI1wXlaJg0UO6Ww",
      "include_colab_link": true
    },
    "kernelspec": {
      "name": "python3",
      "display_name": "Python 3"
    },
    "language_info": {
      "name": "python"
    },
    "accelerator": "GPU"
  },
  "cells": [
    {
      "cell_type": "markdown",
      "metadata": {
        "id": "view-in-github",
        "colab_type": "text"
      },
      "source": [
        "<a href=\"https://colab.research.google.com/github/shubhamjain0797/GenAI_Learning/blob/main/Basic_English_to_hindi_translator_using_LECL.ipynb\" target=\"_parent\"><img src=\"https://colab.research.google.com/assets/colab-badge.svg\" alt=\"Open In Colab\"/></a>"
      ]
    },
    {
      "cell_type": "code",
      "execution_count": 2,
      "metadata": {
        "id": "nWOQhEeXhdrk"
      },
      "outputs": [],
      "source": [
        "# !pip install langchain"
      ]
    },
    {
      "cell_type": "code",
      "source": [
        "# !pip install langchain_groq"
      ],
      "metadata": {
        "id": "b_tIyPKajOX8"
      },
      "execution_count": 5,
      "outputs": []
    },
    {
      "cell_type": "code",
      "source": [
        "from langchain_groq import ChatGroq"
      ],
      "metadata": {
        "id": "eaMAstvhi6MM"
      },
      "execution_count": 6,
      "outputs": []
    },
    {
      "cell_type": "code",
      "source": [
        "model = ChatGroq(model = \"gemma2-9b-it\",groq_api_key=\"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\")"
      ],
      "metadata": {
        "id": "gYXjnh9WjY1j"
      },
      "execution_count": 9,
      "outputs": []
    },
    {
      "cell_type": "code",
      "source": [
        "model"
      ],
      "metadata": {
        "colab": {
          "base_uri": "https://localhost:8080/"
        },
        "id": "D_kcc1bgj7Rz",
        "outputId": "8026fc6c-fe35-4f75-e08c-f5a6e9119c23"
      },
      "execution_count": 10,
      "outputs": [
        {
          "output_type": "execute_result",
          "data": {
            "text/plain": [
              "ChatGroq(client=<groq.resources.chat.completions.Completions object at 0x7b40678208b0>, async_client=<groq.resources.chat.completions.AsyncCompletions object at 0x7b4067d6dea0>, model_name='gemma2-9b-it', model_kwargs={}, groq_api_key=SecretStr('**********'))"
            ]
          },
          "metadata": {},
          "execution_count": 10
        }
      ]
    },
    {
      "cell_type": "code",
      "source": [
        "# !pip install langchain_core"
      ],
      "metadata": {
        "id": "vWZtWwSqkf2L"
      },
      "execution_count": 12,
      "outputs": []
    },
    {
      "cell_type": "code",
      "source": [
        "from langchain_core.messages import HumanMessage, SystemMessage\n"
      ],
      "metadata": {
        "id": "eTnBvkduklQj"
      },
      "execution_count": 15,
      "outputs": []
    },
    {
      "cell_type": "code",
      "source": [
        "messages = [\n",
        "    SystemMessage(content = \"Translate the following from English to Hindi\"),\n",
        "    HumanMessage(content = \"Hello how are you?\")\n",
        "]\n",
        "\n",
        "result = model.invoke(messages)"
      ],
      "metadata": {
        "id": "jTuIyFJHk0d8"
      },
      "execution_count": 16,
      "outputs": []
    },
    {
      "cell_type": "code",
      "source": [
        "result"
      ],
      "metadata": {
        "colab": {
          "base_uri": "https://localhost:8080/"
        },
        "id": "Pom1CaU8lXWK",
        "outputId": "3670f76d-8023-465d-9cd7-3c2f9ae8b6c9"
      },
      "execution_count": 17,
      "outputs": [
        {
          "output_type": "execute_result",
          "data": {
            "text/plain": [
              "AIMessage(content='नमस्ते, आप कैसे हैं?  (Namaste, aap kaise hain?) \\n', additional_kwargs={}, response_metadata={'token_usage': {'completion_tokens': 23, 'prompt_tokens': 21, 'total_tokens': 44, 'completion_time': 0.041818182, 'prompt_time': 0.000140389, 'queue_time': 0.015282128, 'total_time': 0.041958571}, 'model_name': 'gemma2-9b-it', 'system_fingerprint': 'fp_10c08bf97d', 'finish_reason': 'stop', 'logprobs': None}, id='run-946b140f-27f2-4b14-9f09-ebd53f632938-0', usage_metadata={'input_tokens': 21, 'output_tokens': 23, 'total_tokens': 44})"
            ]
          },
          "metadata": {},
          "execution_count": 17
        }
      ]
    },
    {
      "cell_type": "code",
      "source": [
        "from langchain_core.output_parsers import StrOutputParser\n",
        "parser = StrOutputParser()\n",
        "parser.invoke(result)"
      ],
      "metadata": {
        "colab": {
          "base_uri": "https://localhost:8080/",
          "height": 36
        },
        "id": "J8JKmP-wljmr",
        "outputId": "f435d811-9a8a-4297-98ec-83f17d944b08"
      },
      "execution_count": 18,
      "outputs": [
        {
          "output_type": "execute_result",
          "data": {
            "text/plain": [
              "'नमस्ते, आप कैसे हैं?  (Namaste, aap kaise hain?) \\n'"
            ],
            "application/vnd.google.colaboratory.intrinsic+json": {
              "type": "string"
            }
          },
          "metadata": {},
          "execution_count": 18
        }
      ]
    },
    {
      "cell_type": "code",
      "source": [
        "## Using LECL - chain the components\n",
        "chain = model | parser\n",
        "chain.invoke(messages)"
      ],
      "metadata": {
        "colab": {
          "base_uri": "https://localhost:8080/",
          "height": 53
        },
        "id": "jHfCLE_clwZB",
        "outputId": "8749ace7-77f1-4151-bf31-f1129ab154a5"
      },
      "execution_count": 19,
      "outputs": [
        {
          "output_type": "execute_result",
          "data": {
            "text/plain": [
              "'The most common and natural way to say \"Hello, how are you?\" in Hindi is:\\n\\n**नमस्ते, आप कैसे हैं?** (Namaste, aap kaise hain?)\\n\\n* **नमस्ते** (Namaste) is a respectful greeting.\\n* **आप** (aap) is the formal way to say \"you\".\\n* **कैसे** (kaise) means \"how\".\\n* **हैं** (hain) is the verb \"are\".\\n\\n\\nLet me know if you\\'d like to know other ways to say it!\\n'"
            ],
            "application/vnd.google.colaboratory.intrinsic+json": {
              "type": "string"
            }
          },
          "metadata": {},
          "execution_count": 19
        }
      ]
    }
  ]
}